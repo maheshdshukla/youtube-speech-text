{
 "cells": [
  {
   "cell_type": "code",
   "execution_count": 1,
   "metadata": {},
   "outputs": [],
   "source": [
    "import re, urllib.parse, urllib.request\n",
    "import pafy\n",
    "from youtube_transcript_api import YouTubeTranscriptApi"
   ]
  },
  {
   "cell_type": "code",
   "execution_count": 2,
   "metadata": {},
   "outputs": [
    {
     "name": "stdout",
     "output_type": "stream",
     "text": [
      "['jaA4BVIE_Rc', 'ocyaD098kH8', 'i9SYkzSe-rg', 'ButsYex3zj0', 'vbUZI3asYI4', 's8IzSNAI0Zc', 'L4WrbXZ2m_c', 'EmBkx-vkXKk', 'EmBkx-vkXKk', 'EmBkx-vkXKk', 'EmBkx-vkXKk', 'EmBkx-vkXKk', 'EJkO00LDGM8', 'Giq_26MlquM', 'F8AlS-aCNdA', 'MAPaNzZskz4', 'FMBNKVj_pWQ', '_NiAlONYoLI', 'cmHcl9bwSWM', 'EsqFziWOaRQ', 'G0aE6JOEAN4', 'G0aE6JOEAN4', 'G0aE6JOEAN4', 'G0aE6JOEAN4', 'G0aE6JOEAN4', 'G0aE6JOEAN4', 'G0aE6JOEAN4', 'G0aE6JOEAN4', 'G0aE6JOEAN4', 'G0aE6JOEAN4', 'G0aE6JOEAN4', 'G0aE6JOEAN4', 'G0aE6JOEAN4', 'G0aE6JOEAN4', 'G0aE6JOEAN4', 'G0aE6JOEAN4', 'G0aE6JOEAN4', 'G0aE6JOEAN4', 'wC45Srd-Zww', 'wC45Srd-Zww', 'wC45Srd-Zww', 'wC45Srd-Zww', 'BNGjKDFAGTA', 'NMCsg_LQ4f4', 'RPPEzpds774', 'J-X7JdZ8H9M', 'Eggmh0RFm20', '5nksJaGHa48', 'YzfByh6ynJM', 'm-lvPqSQhAE', 'm-lvPqSQhAE', 'e5XGGpy-_kc', 'IcyYydHNlYU', 'JjDPT2TsM2E', 'BFJ5imoQiJU', 'E_1fZwHLT_k', 'tvbNeIn6FI0', 'sWCIV_yj3ag', 'MfDjLQCUpxo', 'fKmMOJpkIPU', 'ReORNrZwLg0', 'ReORNrZwLg0', 'ReORNrZwLg0', 'ReORNrZwLg0', 'ReORNrZwLg0', 'ReORNrZwLg0', 'ReORNrZwLg0', 'ReORNrZwLg0', 'ReORNrZwLg0', 'ReORNrZwLg0', 'ReORNrZwLg0', 'ReORNrZwLg0']\n"
     ]
    }
   ],
   "source": [
    "search_keyword=\"al seef dubai\"\n",
    "query_string = urllib.parse.urlencode({\"search_query\": search_keyword})\n",
    "html = urllib.request.urlopen(\"https://www.youtube.com/results?{}\".format(query_string))\n",
    "video_ids = re.findall(r\"watch\\?v=(\\S{11})\", html.read().decode())\n",
    "print(video_ids)\n",
    "#print(\"https://www.youtube.com/watch?v=\" + video_ids[0])\n",
    "\n",
    "id = \"1J4MLxgrGVk\"#\"1J4MLxgrGVk\"\n",
    "url = \"https://www.youtube.com/watch?v={}\".format(id)"
   ]
  },
  {
   "cell_type": "code",
   "execution_count": 3,
   "metadata": {},
   "outputs": [],
   "source": [
    "video = pafy.new(url)\n",
    "bestaudio = video.getbestaudio()"
   ]
  },
  {
   "cell_type": "code",
   "execution_count": 4,
   "metadata": {},
   "outputs": [
    {
     "name": "stdout",
     "output_type": "stream",
     "text": [
      "1J4MLxgrGVk السنهالية si True\n",
      "Hi Guys! Here I came to Dubai. Now we are going to Starbucks to have a breakfast. Pathum also here. Let's go to Starbucks and talk. Pathum, Where are we now? Now we are at.... Is this Al Seef right? Yes. We came to Al Seef to get the boat taxi. Next one is around 9.45 So.. We can't wait that much. Now we'll book a taxi to go, But when we'll come back, we'll get the boat taxi. Okay. Okay, then we will take the boat when we will come back. Otherwise we will be late to go to other places. Here is the customer service. From there you can buy tickets. Normally to cross the river it costs only 2 Dirhams We just got onto the Taxi, and we are going to take you guys to the heritage area of Al Seef.  Maybe you guys remember the Aladdin movie, when you see these buildings made of sand. These are to show how old Arabic buildings were designed. however, only the outside architecture is designed to show this type of style, once you enter these shops, you can see modernized architecture. As you can see, this area is filled with souvenir shops. From handmade sand bottles, jewellery, Arabic clothes, paintings, frames, mirrors, to more large items such as antique furniture can be found. Not only that, but we will also take you to a very unique Starbucks. Before moving to the next location, we really need to have breakfast. Let's go inside and have a look! Now we are at Starbucks to have breakfast. Then after we are going to Gold Souk and Spice Souk. Will show some videos of that. We will tell you where we are going next, when we reach there. This is how Kanchuka eats in the morning. Is it tasty? What are you drinking? Matcha Tea. Matcha latte right? We are now going to the closest boat station to get an ABRA and go to Gold Souk. If you were wondering what ABRA is, it's the name of the boat service here. The ABRA we just got, costs only 2 Dihram per person. There is a smaller ABRA than this one, and that's only 1 Dirham per person. If looking for budget travel as well as a beautiful experience, you can get this wooden boat service to cross the river. They also have packages for daily transfer services. As you can see, we have now come to Gold Souk. Now we are at Gold Souk. At the entrance we can see the world's biggest ring. And there is a Guinness World Record as well.  You can see that in this frame. when you are coming to visit Gold Souk, don't miss to see this. Definitely come here if you visit Gold Souk. The importance of Gold Souk is indeed the high amount of gold shops in this area. Not just gold jewelry, but some shops even have clothing items made out of gold. That's how much gold they have. Now we have come to visit Spice Souk. This is located very close to Gold Souk. Moreover, you can also find Herb Souk here. You guys might be wondering what Souk means. The Arabian markets are called Souk or bazaar. I suppose you can say that the Souk area can also be said to be the Sri Lankan Pettah area. There are so many shops side to side. When you come here, you will be able to smell very nice scents. We can mostly find Middle East and Asian spices. If you wish to find ingredients for food or medicines, this is the place to come to. We had the chance to get spices that we had never even seen before. They also gave us some kind of menthol flavored smoke to try. The cold I was having just simply vanished! There are also many hijab shops, and I tried a head scarf in one of them. They also teach us how to wear it the Arabian way. And this is my Arabic look! Now we have come to an Arabic handmade lamp shop. So colorful! We found different types of tea from here. vanilla, mint, fruit as well as teas that add roses. People who know me, know very well how much I love tea. I loved it when I came here. Moreover, one thing you cannot miss out to buy, if you ever come to Dubai, is Saffron. So we checked the quality of 3 types of saffron and in the end we bought the Iranian one. So today we took you to 3 places in Dubai. We hope you enjoyed watching! What will be our next stop? Stay tuned so see another important place in the next vlog. \n"
     ]
    }
   ],
   "source": [
    "try:\n",
    "    transcript_list = YouTubeTranscriptApi.list_transcripts(id)\n",
    "    en_data =  \"\"\n",
    "\n",
    "    for transcript in transcript_list:\n",
    " \n",
    "        # the Transcript object provides metadata\n",
    "        # properties\n",
    "        print(\n",
    "            transcript.video_id,\n",
    "            transcript.language,\n",
    "            transcript.language_code,\n",
    "        \n",
    "            # whether it has been manually created or\n",
    "            # generated by YouTube\n",
    "            #transcript.is_generated,\n",
    "            \n",
    "            # whether this transcript can be translated\n",
    "            # or not\n",
    "            transcript.is_translatable,\n",
    "            \n",
    "            # a list of languages the transcript can be\n",
    "            # translated to\n",
    "            #transcript.translation_languages,\n",
    "        )\n",
    "    \n",
    "        # fetch the actual transcript data\n",
    "        #print(transcript.fetch())\n",
    "    \n",
    "        # translating the transcript will return another\n",
    "        # transcript object\n",
    "        if transcript.language_code != 'en' and transcript.is_translatable:\n",
    "            en_data  = transcript.translate('en').fetch()\n",
    "            break\n",
    "        else :\n",
    "            transcript.fetch()\n",
    "    \n",
    "    # you can also directly filter for the language you are\n",
    "    # looking for, using the transcript list\n",
    "    #transcript = transcript_list.find_transcript(['en'])\n",
    "    \n",
    "    # or just filter for manually created transcripts\n",
    "    #transcript = transcript_list.find_manually_created_transcript(['en'])\n",
    "except:\n",
    "    print(\"An exception occurred\")\n",
    "\n",
    "#print (en_data)\n",
    "text =  \"\"\n",
    "for t in en_data:\n",
    "    text += t['text'] + \" \"\n",
    "\n",
    "print(text)"
   ]
  }
 ],
 "metadata": {
  "kernelspec": {
   "display_name": "Python 3.8.8 ('base')",
   "language": "python",
   "name": "python3"
  },
  "language_info": {
   "codemirror_mode": {
    "name": "ipython",
    "version": 3
   },
   "file_extension": ".py",
   "mimetype": "text/x-python",
   "name": "python",
   "nbconvert_exporter": "python",
   "pygments_lexer": "ipython3",
   "version": "3.8.8"
  },
  "orig_nbformat": 4,
  "vscode": {
   "interpreter": {
    "hash": "a8ea0d0c2b6296112e76e6b362b823ef8a6c54ecb0f2af0f38f562d08b29ff9d"
   }
  }
 },
 "nbformat": 4,
 "nbformat_minor": 2
}
